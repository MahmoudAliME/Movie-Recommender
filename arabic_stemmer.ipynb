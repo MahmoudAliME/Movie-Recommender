{
 "cells": [
  {
   "cell_type": "code",
   "execution_count": 149,
   "metadata": {},
   "outputs": [],
   "source": [
    "#ٍStart with Apply modified Khoja algorithm to stem Arabic words\n",
    "import re\n",
    "\n",
    "def remove_diacritics(word):\n",
    "    return re.sub('[\\u064b-\\u0652]', '', word)\n",
    "\n",
    "def remove_prefix(word, prefixes):\n",
    "    for prefix in prefixes:\n",
    "        if word.startswith(prefix):\n",
    "            return word[len(prefix):]\n",
    "    return word\n",
    "\n",
    "def remove_suffix(word, suffixes):\n",
    "    for suffix in suffixes:\n",
    "        if word.endswith(suffix):\n",
    "            return word[:-len(suffix)]\n",
    "    return word\n",
    "\n",
    "def pattern_encoder(word):\n",
    "    mapping = {'ا': '1', 'و': '2', 'ي': '3', 'م': '4'}\n",
    "    encoded_word = ''.join(mapping.get(letter, '0') for letter in word)\n",
    "    if not encoded_word.startswith('4'):\n",
    "        encoded_word = encoded_word.replace('4', '0', 1)\n",
    "    return encoded_word\n",
    "\n",
    "\n",
    "\n",
    "def stem(word):\n",
    "    prefixes = ['ال', 'و', 'ب', 'ف', 'ل', 'ك', 'ي', 'س', 'ت', 'ن', 'أ', 'م', 'إ', 'ع', 'ح', 'ر', 'ز', 'ص', 'غ', 'ض', 'ذ', 'ش', 'ظ', 'ث', 'خ', 'ج']\n",
    "    suffixes = ['ا','ات','ان','انا','اني','ي','ة','ت','تا','تان','تما','تن','ته','تها','تهم','تهما','تهن','تي','تين','ك','كم','كما','م','ما','ون','ن','نا','ني','ه','ها','هم','هما','هن','وا','ونا','وني','يا','يت','يتان','ين','ينا','يني']\n",
    "    patterns = ['تفعيل','فاعل', 'فعال', 'فعيل', 'مفعول', 'مفعل', 'مفعيل', 'مفعلة', 'مفاعيل', 'مفاعلة']\n",
    "\n",
    "    encoded_patterns = []\n",
    "    for pattern in patterns:\n",
    "        encoded_patterns.append(pattern_encoder(pattern))\n",
    "\n",
    "    word = remove_diacritics(word)\n",
    "    if pattern_encoder(word) in encoded_patterns:\n",
    "            return word\n",
    "    \n",
    "    temp = ''\n",
    "    while len(word) > 4 and temp != word:\n",
    "        temp = word\n",
    "\n",
    "        word = remove_suffix(word, suffixes) \n",
    "        if pattern_encoder(word) in encoded_patterns:\n",
    "            return word\n",
    "        #print('suf ',word)\n",
    "        \n",
    "        word = remove_prefix(word, prefixes)\n",
    "        if pattern_encoder(word) in encoded_patterns:\n",
    "            return word \n",
    "        #print('pre ',word)\n",
    "        \n",
    "    \n",
    "    return word"
   ]
  },
  {
   "cell_type": "code",
   "execution_count": 150,
   "metadata": {},
   "outputs": [
    {
     "name": "stdout",
     "output_type": "stream",
     "text": [
      "قاول\n",
      "مصدر\n",
      "مجال\n",
      "رؤوس\n",
      "ناقض\n",
      "مدرس\n",
      "عاون\n",
      "استقلال\n",
      "كاتب\n",
      "مركز\n",
      "تعليم\n",
      "مشاريع\n",
      "احتراف\n",
      "ضارب\n"
     ]
    }
   ],
   "source": [
    "words = ['المقاولين','المصدرين','المجالات','الرؤوس','المتناقض','المدرسون','التعاونيات','الاستقلالية','أفتكاتبانني','المركزية','تعليمات','مشاريع','احترافية','أفتضاربانني']\n",
    "for word in words:\n",
    "    print(stem(word))\n"
   ]
  },
  {
   "cell_type": "code",
   "execution_count": 151,
   "metadata": {},
   "outputs": [
    {
     "name": "stdout",
     "output_type": "stream",
     "text": [
      "مقاول\n",
      "مصدر\n",
      "مجال\n",
      "رؤوس\n",
      "متناقض\n",
      "مدرس\n",
      "تعاون\n",
      "استقلال\n",
      "كاتب\n",
      "مركز\n",
      "تعليم\n",
      "مشاريع\n",
      "احتراف\n",
      "ضارب\n"
     ]
    }
   ],
   "source": [
    "from tashaphyne.stemming import ArabicLightStemmer\n",
    "ArListem = ArabicLightStemmer()\n",
    "for word in words:\n",
    "    stem = ArListem.light_stem(word)\n",
    "    print (ArListem.get_stem())\n",
    "    #print (ArListem.get_root())\n"
   ]
  },
  {
   "cell_type": "code",
   "execution_count": null,
   "metadata": {},
   "outputs": [],
   "source": []
  }
 ],
 "metadata": {
  "kernelspec": {
   "display_name": "base",
   "language": "python",
   "name": "python3"
  },
  "language_info": {
   "codemirror_mode": {
    "name": "ipython",
    "version": 3
   },
   "file_extension": ".py",
   "mimetype": "text/x-python",
   "name": "python",
   "nbconvert_exporter": "python",
   "pygments_lexer": "ipython3",
   "version": "3.9.12"
  },
  "orig_nbformat": 4
 },
 "nbformat": 4,
 "nbformat_minor": 2
}
